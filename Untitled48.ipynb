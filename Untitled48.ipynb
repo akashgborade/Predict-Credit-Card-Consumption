{
 "cells": [
  {
   "cell_type": "code",
   "execution_count": 100,
   "id": "7aedbe75",
   "metadata": {},
   "outputs": [],
   "source": [
    "import pandas as pd \n",
    "import numpy as np\n",
    "import matplotlib.pyplot as plt\n"
   ]
  },
  {
   "cell_type": "code",
   "execution_count": 101,
   "id": "fe5f42e0",
   "metadata": {},
   "outputs": [],
   "source": [
    "## Loading and merging the data_sets\n",
    "cred_consum_data = pd.read_excel(r\"F:\\Akash data\\AnalytixLabs\\Machine Learning\\11. Capstone Case Study - Predict Cred Card Consumption\\CreditConsumptionData.xlsx\")\n",
    "\n",
    "cust_beha_data = pd.read_excel(r\"F:\\Akash data\\AnalytixLabs\\Machine Learning\\11. Capstone Case Study - Predict Cred Card Consumption\\CustomerBehaviorData.xlsx\")\n",
    "\n",
    "cust_demon = pd.read_excel(r\"F:\\Akash data\\AnalytixLabs\\Machine Learning\\11. Capstone Case Study - Predict Cred Card Consumption\\CustomerDemographics.xlsx\")\n",
    "\n"
   ]
  },
  {
   "cell_type": "code",
   "execution_count": 102,
   "id": "1407ff40",
   "metadata": {},
   "outputs": [
    {
     "data": {
      "text/html": [
       "<div>\n",
       "<style scoped>\n",
       "    .dataframe tbody tr th:only-of-type {\n",
       "        vertical-align: middle;\n",
       "    }\n",
       "\n",
       "    .dataframe tbody tr th {\n",
       "        vertical-align: top;\n",
       "    }\n",
       "\n",
       "    .dataframe thead th {\n",
       "        text-align: right;\n",
       "    }\n",
       "</style>\n",
       "<table border=\"1\" class=\"dataframe\">\n",
       "  <thead>\n",
       "    <tr style=\"text-align: right;\">\n",
       "      <th></th>\n",
       "      <th>ID</th>\n",
       "      <th>account_type</th>\n",
       "      <th>gender</th>\n",
       "      <th>age</th>\n",
       "      <th>Income</th>\n",
       "      <th>Emp_Tenure_Years</th>\n",
       "      <th>Tenure_with_Bank</th>\n",
       "      <th>region_code</th>\n",
       "      <th>NetBanking_Flag</th>\n",
       "      <th>Avg_days_between_transaction</th>\n",
       "      <th>...</th>\n",
       "      <th>debit_count_may</th>\n",
       "      <th>max_credit_amount_may</th>\n",
       "      <th>debit_amount_jun</th>\n",
       "      <th>credit_amount_jun</th>\n",
       "      <th>credit_count_jun</th>\n",
       "      <th>debit_count_jun</th>\n",
       "      <th>max_credit_amount_jun</th>\n",
       "      <th>loan_enq</th>\n",
       "      <th>emi_active</th>\n",
       "      <th>cc_cons</th>\n",
       "    </tr>\n",
       "  </thead>\n",
       "  <tbody>\n",
       "    <tr>\n",
       "      <th>0</th>\n",
       "      <td>19427</td>\n",
       "      <td>current</td>\n",
       "      <td>M</td>\n",
       "      <td>63</td>\n",
       "      <td>MEDIUM</td>\n",
       "      <td>30.1</td>\n",
       "      <td>10</td>\n",
       "      <td>628.0</td>\n",
       "      <td>1</td>\n",
       "      <td>5.0</td>\n",
       "      <td>...</td>\n",
       "      <td>14</td>\n",
       "      <td>20770.0</td>\n",
       "      <td>44884.90</td>\n",
       "      <td>369000.75</td>\n",
       "      <td>40</td>\n",
       "      <td>96</td>\n",
       "      <td>46088.0</td>\n",
       "      <td>Y</td>\n",
       "      <td>2646.72</td>\n",
       "      <td>NaN</td>\n",
       "    </tr>\n",
       "    <tr>\n",
       "      <th>1</th>\n",
       "      <td>16150</td>\n",
       "      <td>current</td>\n",
       "      <td>M</td>\n",
       "      <td>36</td>\n",
       "      <td>MEDIUM</td>\n",
       "      <td>14.4</td>\n",
       "      <td>10</td>\n",
       "      <td>656.0</td>\n",
       "      <td>0</td>\n",
       "      <td>12.0</td>\n",
       "      <td>...</td>\n",
       "      <td>63</td>\n",
       "      <td>78627.0</td>\n",
       "      <td>91073.84</td>\n",
       "      <td>243182.32</td>\n",
       "      <td>7</td>\n",
       "      <td>12</td>\n",
       "      <td>17953.0</td>\n",
       "      <td>Y</td>\n",
       "      <td>5469.79</td>\n",
       "      <td>NaN</td>\n",
       "    </tr>\n",
       "    <tr>\n",
       "      <th>2</th>\n",
       "      <td>11749</td>\n",
       "      <td>current</td>\n",
       "      <td>F</td>\n",
       "      <td>28</td>\n",
       "      <td>MEDIUM</td>\n",
       "      <td>4.8</td>\n",
       "      <td>10</td>\n",
       "      <td>314.0</td>\n",
       "      <td>1</td>\n",
       "      <td>13.0</td>\n",
       "      <td>...</td>\n",
       "      <td>82</td>\n",
       "      <td>1260.0</td>\n",
       "      <td>96552.00</td>\n",
       "      <td>35467.00</td>\n",
       "      <td>16</td>\n",
       "      <td>42</td>\n",
       "      <td>41121.0</td>\n",
       "      <td>Y</td>\n",
       "      <td>7207.85</td>\n",
       "      <td>NaN</td>\n",
       "    </tr>\n",
       "    <tr>\n",
       "      <th>3</th>\n",
       "      <td>11635</td>\n",
       "      <td>current</td>\n",
       "      <td>M</td>\n",
       "      <td>32</td>\n",
       "      <td>MEDIUM</td>\n",
       "      <td>9.6</td>\n",
       "      <td>2</td>\n",
       "      <td>614.0</td>\n",
       "      <td>1</td>\n",
       "      <td>19.0</td>\n",
       "      <td>...</td>\n",
       "      <td>78</td>\n",
       "      <td>23332.0</td>\n",
       "      <td>18250.00</td>\n",
       "      <td>87204.35</td>\n",
       "      <td>2</td>\n",
       "      <td>10</td>\n",
       "      <td>32003.0</td>\n",
       "      <td>Y</td>\n",
       "      <td>591.34</td>\n",
       "      <td>NaN</td>\n",
       "    </tr>\n",
       "    <tr>\n",
       "      <th>4</th>\n",
       "      <td>8908</td>\n",
       "      <td>current</td>\n",
       "      <td>M</td>\n",
       "      <td>32</td>\n",
       "      <td>HIGH</td>\n",
       "      <td>12.0</td>\n",
       "      <td>7</td>\n",
       "      <td>750.0</td>\n",
       "      <td>1</td>\n",
       "      <td>18.0</td>\n",
       "      <td>...</td>\n",
       "      <td>171</td>\n",
       "      <td>41672.0</td>\n",
       "      <td>83525.75</td>\n",
       "      <td>83992.00</td>\n",
       "      <td>21</td>\n",
       "      <td>12</td>\n",
       "      <td>9626.0</td>\n",
       "      <td>Y</td>\n",
       "      <td>2621.39</td>\n",
       "      <td>NaN</td>\n",
       "    </tr>\n",
       "    <tr>\n",
       "      <th>...</th>\n",
       "      <td>...</td>\n",
       "      <td>...</td>\n",
       "      <td>...</td>\n",
       "      <td>...</td>\n",
       "      <td>...</td>\n",
       "      <td>...</td>\n",
       "      <td>...</td>\n",
       "      <td>...</td>\n",
       "      <td>...</td>\n",
       "      <td>...</td>\n",
       "      <td>...</td>\n",
       "      <td>...</td>\n",
       "      <td>...</td>\n",
       "      <td>...</td>\n",
       "      <td>...</td>\n",
       "      <td>...</td>\n",
       "      <td>...</td>\n",
       "      <td>...</td>\n",
       "      <td>...</td>\n",
       "      <td>...</td>\n",
       "      <td>...</td>\n",
       "    </tr>\n",
       "    <tr>\n",
       "      <th>19995</th>\n",
       "      <td>1270</td>\n",
       "      <td>current</td>\n",
       "      <td>F</td>\n",
       "      <td>66</td>\n",
       "      <td>MEDIUM</td>\n",
       "      <td>32.2</td>\n",
       "      <td>6</td>\n",
       "      <td>354.0</td>\n",
       "      <td>1</td>\n",
       "      <td>7.0</td>\n",
       "      <td>...</td>\n",
       "      <td>8</td>\n",
       "      <td>24438.0</td>\n",
       "      <td>153772.21</td>\n",
       "      <td>31284.00</td>\n",
       "      <td>3</td>\n",
       "      <td>38</td>\n",
       "      <td>42872.0</td>\n",
       "      <td>Y</td>\n",
       "      <td>6334.20</td>\n",
       "      <td>NaN</td>\n",
       "    </tr>\n",
       "    <tr>\n",
       "      <th>19996</th>\n",
       "      <td>15992</td>\n",
       "      <td>current</td>\n",
       "      <td>M</td>\n",
       "      <td>53</td>\n",
       "      <td>MEDIUM</td>\n",
       "      <td>19.8</td>\n",
       "      <td>5</td>\n",
       "      <td>809.0</td>\n",
       "      <td>0</td>\n",
       "      <td>14.0</td>\n",
       "      <td>...</td>\n",
       "      <td>11</td>\n",
       "      <td>213000.0</td>\n",
       "      <td>18098.47</td>\n",
       "      <td>93108.00</td>\n",
       "      <td>43</td>\n",
       "      <td>11</td>\n",
       "      <td>36747.0</td>\n",
       "      <td>Y</td>\n",
       "      <td>102216.02</td>\n",
       "      <td>NaN</td>\n",
       "    </tr>\n",
       "    <tr>\n",
       "      <th>19997</th>\n",
       "      <td>7081</td>\n",
       "      <td>current</td>\n",
       "      <td>F</td>\n",
       "      <td>66</td>\n",
       "      <td>MEDIUM</td>\n",
       "      <td>18.4</td>\n",
       "      <td>1</td>\n",
       "      <td>466.0</td>\n",
       "      <td>0</td>\n",
       "      <td>10.0</td>\n",
       "      <td>...</td>\n",
       "      <td>171</td>\n",
       "      <td>34327.0</td>\n",
       "      <td>32198.63</td>\n",
       "      <td>46800.00</td>\n",
       "      <td>3</td>\n",
       "      <td>38</td>\n",
       "      <td>18810.0</td>\n",
       "      <td>Y</td>\n",
       "      <td>1930.19</td>\n",
       "      <td>NaN</td>\n",
       "    </tr>\n",
       "    <tr>\n",
       "      <th>19998</th>\n",
       "      <td>6821</td>\n",
       "      <td>current</td>\n",
       "      <td>M</td>\n",
       "      <td>32</td>\n",
       "      <td>LOW</td>\n",
       "      <td>6.0</td>\n",
       "      <td>8</td>\n",
       "      <td>619.0</td>\n",
       "      <td>0</td>\n",
       "      <td>17.0</td>\n",
       "      <td>...</td>\n",
       "      <td>82</td>\n",
       "      <td>51929.0</td>\n",
       "      <td>27334.14</td>\n",
       "      <td>20201.00</td>\n",
       "      <td>47</td>\n",
       "      <td>80</td>\n",
       "      <td>11443.0</td>\n",
       "      <td>Y</td>\n",
       "      <td>24499.91</td>\n",
       "      <td>NaN</td>\n",
       "    </tr>\n",
       "    <tr>\n",
       "      <th>19999</th>\n",
       "      <td>13730</td>\n",
       "      <td>current</td>\n",
       "      <td>F</td>\n",
       "      <td>118</td>\n",
       "      <td>LOW</td>\n",
       "      <td>78.4</td>\n",
       "      <td>7</td>\n",
       "      <td>882.0</td>\n",
       "      <td>1</td>\n",
       "      <td>10.0</td>\n",
       "      <td>...</td>\n",
       "      <td>8</td>\n",
       "      <td>32431.0</td>\n",
       "      <td>23464.59</td>\n",
       "      <td>38503.00</td>\n",
       "      <td>5</td>\n",
       "      <td>42</td>\n",
       "      <td>47504.0</td>\n",
       "      <td>Y</td>\n",
       "      <td>5311.54</td>\n",
       "      <td>NaN</td>\n",
       "    </tr>\n",
       "  </tbody>\n",
       "</table>\n",
       "<p>20000 rows × 49 columns</p>\n",
       "</div>"
      ],
      "text/plain": [
       "          ID account_type gender  age  Income  Emp_Tenure_Years  \\\n",
       "0      19427      current      M   63  MEDIUM              30.1   \n",
       "1      16150      current      M   36  MEDIUM              14.4   \n",
       "2      11749      current      F   28  MEDIUM               4.8   \n",
       "3      11635      current      M   32  MEDIUM               9.6   \n",
       "4       8908      current      M   32    HIGH              12.0   \n",
       "...      ...          ...    ...  ...     ...               ...   \n",
       "19995   1270      current      F   66  MEDIUM              32.2   \n",
       "19996  15992      current      M   53  MEDIUM              19.8   \n",
       "19997   7081      current      F   66  MEDIUM              18.4   \n",
       "19998   6821      current      M   32     LOW               6.0   \n",
       "19999  13730      current      F  118     LOW              78.4   \n",
       "\n",
       "       Tenure_with_Bank  region_code  NetBanking_Flag  \\\n",
       "0                    10        628.0                1   \n",
       "1                    10        656.0                0   \n",
       "2                    10        314.0                1   \n",
       "3                     2        614.0                1   \n",
       "4                     7        750.0                1   \n",
       "...                 ...          ...              ...   \n",
       "19995                 6        354.0                1   \n",
       "19996                 5        809.0                0   \n",
       "19997                 1        466.0                0   \n",
       "19998                 8        619.0                0   \n",
       "19999                 7        882.0                1   \n",
       "\n",
       "       Avg_days_between_transaction  ...  debit_count_may  \\\n",
       "0                               5.0  ...               14   \n",
       "1                              12.0  ...               63   \n",
       "2                              13.0  ...               82   \n",
       "3                              19.0  ...               78   \n",
       "4                              18.0  ...              171   \n",
       "...                             ...  ...              ...   \n",
       "19995                           7.0  ...                8   \n",
       "19996                          14.0  ...               11   \n",
       "19997                          10.0  ...              171   \n",
       "19998                          17.0  ...               82   \n",
       "19999                          10.0  ...                8   \n",
       "\n",
       "       max_credit_amount_may  debit_amount_jun  credit_amount_jun  \\\n",
       "0                    20770.0          44884.90          369000.75   \n",
       "1                    78627.0          91073.84          243182.32   \n",
       "2                     1260.0          96552.00           35467.00   \n",
       "3                    23332.0          18250.00           87204.35   \n",
       "4                    41672.0          83525.75           83992.00   \n",
       "...                      ...               ...                ...   \n",
       "19995                24438.0         153772.21           31284.00   \n",
       "19996               213000.0          18098.47           93108.00   \n",
       "19997                34327.0          32198.63           46800.00   \n",
       "19998                51929.0          27334.14           20201.00   \n",
       "19999                32431.0          23464.59           38503.00   \n",
       "\n",
       "       credit_count_jun  debit_count_jun  max_credit_amount_jun  loan_enq  \\\n",
       "0                    40               96                46088.0         Y   \n",
       "1                     7               12                17953.0         Y   \n",
       "2                    16               42                41121.0         Y   \n",
       "3                     2               10                32003.0         Y   \n",
       "4                    21               12                 9626.0         Y   \n",
       "...                 ...              ...                    ...       ...   \n",
       "19995                 3               38                42872.0         Y   \n",
       "19996                43               11                36747.0         Y   \n",
       "19997                 3               38                18810.0         Y   \n",
       "19998                47               80                11443.0         Y   \n",
       "19999                 5               42                47504.0         Y   \n",
       "\n",
       "       emi_active  cc_cons  \n",
       "0         2646.72      NaN  \n",
       "1         5469.79      NaN  \n",
       "2         7207.85      NaN  \n",
       "3          591.34      NaN  \n",
       "4         2621.39      NaN  \n",
       "...           ...      ...  \n",
       "19995     6334.20      NaN  \n",
       "19996   102216.02      NaN  \n",
       "19997     1930.19      NaN  \n",
       "19998    24499.91      NaN  \n",
       "19999     5311.54      NaN  \n",
       "\n",
       "[20000 rows x 49 columns]"
      ]
     },
     "execution_count": 102,
     "metadata": {},
     "output_type": "execute_result"
    }
   ],
   "source": [
    "data = cust_demon.merge(cust_beha_data, on=\"ID\", how=\"inner\")\n",
    "\n",
    "data = data.merge(cred_consum_data, on=\"ID\", how=\"inner\")\n",
    "\n",
    "data"
   ]
  },
  {
   "cell_type": "code",
   "execution_count": 103,
   "id": "c236d01d",
   "metadata": {},
   "outputs": [
    {
     "name": "stdout",
     "output_type": "stream",
     "text": [
      "                 ID           age  Emp_Tenure_Years  Tenure_with_Bank  \\\n",
      "count  20000.000000  20000.000000      20000.000000      20000.000000   \n",
      "mean    9999.500000     47.672300         15.217250          5.496050   \n",
      "std     5773.647028     30.359771         20.481455          2.870452   \n",
      "min        0.000000     25.000000          0.500000          1.000000   \n",
      "25%     4999.750000     33.000000          5.100000          3.000000   \n",
      "50%     9999.500000     40.000000          9.900000          6.000000   \n",
      "75%    14999.250000     53.000000         18.000000          8.000000   \n",
      "max    19999.000000    223.000000        203.000000         10.000000   \n",
      "\n",
      "        region_code  NetBanking_Flag  Avg_days_between_transaction  \\\n",
      "count  19999.000000     20000.000000                  19997.000000   \n",
      "mean     598.959348         0.718000                     11.044757   \n",
      "std      220.105230         0.449985                      5.480552   \n",
      "min      123.000000         0.000000                      2.000000   \n",
      "25%      424.000000         0.000000                      6.000000   \n",
      "50%      623.000000         1.000000                     11.000000   \n",
      "75%      799.000000         1.000000                     16.000000   \n",
      "max      974.000000         1.000000                     20.000000   \n",
      "\n",
      "         cc_cons_apr    dc_cons_apr   cc_cons_may  ...  credit_count_may  \\\n",
      "count   20000.000000   20000.000000  1.999900e+04  ...       20000.00000   \n",
      "mean    17856.990922    8130.453414  1.618836e+04  ...          11.91900   \n",
      "std     25158.878234   14572.188829  2.651068e+04  ...          16.85576   \n",
      "min       253.000000      19.350000  1.570000e+02  ...           0.00000   \n",
      "25%      4377.000000    1624.650000  3.635910e+03  ...           2.00000   \n",
      "50%     10214.642500    3964.750000  8.635230e+03  ...           4.00000   \n",
      "75%     21189.000000    9339.020000  1.865531e+04  ...          11.00000   \n",
      "max    441031.330000  229255.000000  1.117246e+06  ...          71.00000   \n",
      "\n",
      "       debit_count_may  max_credit_amount_may  debit_amount_jun  \\\n",
      "count     20000.000000           2.000000e+04      2.000000e+04   \n",
      "mean         40.974850           5.820799e+04      7.812280e+04   \n",
      "std          40.561202           2.085914e+05      2.448983e+05   \n",
      "min           0.000000           2.500000e-01      5.230000e+00   \n",
      "25%          11.000000           2.020225e+04      2.576311e+04   \n",
      "50%          23.000000           3.149650e+04      4.572505e+04   \n",
      "75%          69.000000           5.642100e+04      8.529653e+04   \n",
      "max         171.000000           1.000000e+07      2.642915e+07   \n",
      "\n",
      "       credit_amount_jun  credit_count_jun  debit_count_jun  \\\n",
      "count       2.000000e+04      20000.000000     20000.000000   \n",
      "mean        7.881693e+04         19.905450        44.529100   \n",
      "std         1.569872e+05         27.055323        35.080453   \n",
      "min         1.188000e+01          1.000000         0.000000   \n",
      "25%         2.492008e+04          4.000000        12.000000   \n",
      "50%         4.618300e+04          7.000000        37.000000   \n",
      "75%         8.602000e+04         21.000000        73.000000   \n",
      "max         6.611953e+06        117.000000       133.000000   \n",
      "\n",
      "       max_credit_amount_jun    emi_active        cc_cons  \n",
      "count           2.000000e+04  1.999900e+04   15000.000000  \n",
      "mean            5.284985e+04  1.539887e+04   55157.729867  \n",
      "std             1.343175e+05  1.202541e+05   97670.972252  \n",
      "min             6.000000e-02  0.000000e+00       0.000000  \n",
      "25%             1.896450e+04  1.545940e+03    6768.000000  \n",
      "50%             3.025000e+04  3.934660e+03   13364.000000  \n",
      "75%             5.344900e+04  9.376390e+03   20105.750000  \n",
      "max             5.200000e+06  7.447125e+06  408382.000000  \n",
      "\n",
      "[8 rows x 45 columns]\n"
     ]
    }
   ],
   "source": [
    "## displaying basics statistics\n",
    "summery = data.describe()\n",
    "print(summery)"
   ]
  },
  {
   "cell_type": "code",
   "execution_count": 104,
   "id": "805f0a20",
   "metadata": {},
   "outputs": [],
   "source": [
    "## summery foung that their is the outliers in the age column"
   ]
  },
  {
   "cell_type": "code",
   "execution_count": 105,
   "id": "781b56d1",
   "metadata": {},
   "outputs": [
    {
     "data": {
      "text/plain": [
       "(array([3428., 6290., 2036., 2221., 1847., 2251., 1221.,    0.,    0.,\n",
       "           0.,    0.,    0.,    0.,    0.,  249.,    0.,    0.,    0.,\n",
       "           0.,    0.,    0.,    0.,    0.,    0.,    0.,    0.,    0.,\n",
       "           0.,    0.,  457.]),\n",
       " array([ 25. ,  31.6,  38.2,  44.8,  51.4,  58. ,  64.6,  71.2,  77.8,\n",
       "         84.4,  91. ,  97.6, 104.2, 110.8, 117.4, 124. , 130.6, 137.2,\n",
       "        143.8, 150.4, 157. , 163.6, 170.2, 176.8, 183.4, 190. , 196.6,\n",
       "        203.2, 209.8, 216.4, 223. ]),\n",
       " <BarContainer object of 30 artists>)"
      ]
     },
     "execution_count": 105,
     "metadata": {},
     "output_type": "execute_result"
    },
    {
     "data": {
      "image/png": "[encoded data removed]",
      "text/plain": [
       "<Figure size 800x600 with 1 Axes>"
      ]
     },
     "metadata": {},
     "output_type": "display_data"
    }
   ],
   "source": [
    "## using histogram to check the vizualization for outliers in the age column\n",
    "plt.figure(figsize=(8, 6))\n",
    "plt.hist(data[\"age\"], bins=30)"
   ]
  },
  {
   "cell_type": "code",
   "execution_count": 106,
   "id": "833602f3",
   "metadata": {},
   "outputs": [],
   "source": [
    "## data shows there is some outliers in the age column"
   ]
  },
  {
   "cell_type": "code",
   "execution_count": 107,
   "id": "be27cce7",
   "metadata": {},
   "outputs": [
    {
     "data": {
      "text/plain": [
       "47.6723"
      ]
     },
     "execution_count": 107,
     "metadata": {},
     "output_type": "execute_result"
    }
   ],
   "source": [
    "## treating outliers using the mean value of the age data\n",
    "mean_age = data[\"age\"].mean()\n",
    "mean_age"
   ]
  },
  {
   "cell_type": "code",
   "execution_count": 108,
   "id": "3fa58239",
   "metadata": {},
   "outputs": [
    {
     "data": {
      "text/plain": [
       "count    20000.000000\n",
       "mean        42.814982\n",
       "std         12.036643\n",
       "min         25.000000\n",
       "25%         33.000000\n",
       "50%         40.000000\n",
       "75%         53.000000\n",
       "max         69.000000\n",
       "Name: age, dtype: float64"
      ]
     },
     "execution_count": 108,
     "metadata": {},
     "output_type": "execute_result"
    }
   ],
   "source": [
    "data['age'] = np.where(data[\"age\"]>100, mean_age, data[\"age\"])\n",
    "data[\"age\"].describe()"
   ]
  },
  {
   "cell_type": "code",
   "execution_count": 109,
   "id": "2497f86a",
   "metadata": {},
   "outputs": [
    {
     "data": {
      "image/png": "[encoded data removed]",
      "text/plain": [
       "<Figure size 800x600 with 1 Axes>"
      ]
     },
     "metadata": {},
     "output_type": "display_data"
    }
   ],
   "source": [
    "## now again vizualise to see the outlier was removed or not\n",
    "plt.figure(figsize=(8, 6))\n",
    "plt.hist(data[\"age\"], bins=30)\n",
    "plt.show()"
   ]
  },
  {
   "cell_type": "code",
   "execution_count": 110,
   "id": "e3a4b4f1",
   "metadata": {},
   "outputs": [
    {
     "data": {
      "text/plain": [
       "ID                                int64\n",
       "account_type                     object\n",
       "gender                           object\n",
       "age                             float64\n",
       "Income                           object\n",
       "Emp_Tenure_Years                float64\n",
       "Tenure_with_Bank                  int64\n",
       "region_code                     float64\n",
       "NetBanking_Flag                   int64\n",
       "Avg_days_between_transaction    float64\n",
       "cc_cons_apr                     float64\n",
       "dc_cons_apr                     float64\n",
       "cc_cons_may                     float64\n",
       "dc_cons_may                     float64\n",
       "cc_cons_jun                     float64\n",
       "dc_cons_jun                     float64\n",
       "cc_count_apr                    float64\n",
       "cc_count_may                      int64\n",
       "cc_count_jun                      int64\n",
       "dc_count_apr                      int64\n",
       "dc_count_may                      int64\n",
       "dc_count_jun                      int64\n",
       "card_lim                          int64\n",
       "personal_loan_active              int64\n",
       "vehicle_loan_active               int64\n",
       "personal_loan_closed            float64\n",
       "vehicle_loan_closed               int64\n",
       "investment_1                    float64\n",
       "investment_2                    float64\n",
       "investment_3                    float64\n",
       "investment_4                    float64\n",
       "debit_amount_apr                float64\n",
       "credit_amount_apr               float64\n",
       "debit_count_apr                 float64\n",
       "credit_count_apr                  int64\n",
       "max_credit_amount_apr           float64\n",
       "debit_amount_may                float64\n",
       "credit_amount_may               float64\n",
       "credit_count_may                  int64\n",
       "debit_count_may                   int64\n",
       "max_credit_amount_may           float64\n",
       "debit_amount_jun                float64\n",
       "credit_amount_jun               float64\n",
       "credit_count_jun                  int64\n",
       "debit_count_jun                   int64\n",
       "max_credit_amount_jun           float64\n",
       "loan_enq                         object\n",
       "emi_active                      float64\n",
       "cc_cons                         float64\n",
       "dtype: object"
      ]
     },
     "execution_count": 110,
     "metadata": {},
     "output_type": "execute_result"
    }
   ],
   "source": [
    "data.dtypes\n",
    "\n"
   ]
  },
  {
   "cell_type": "code",
   "execution_count": 111,
   "id": "7b9676a1",
   "metadata": {},
   "outputs": [],
   "source": [
    "## count of missing values in each column "
   ]
  },
  {
   "cell_type": "code",
   "execution_count": 112,
   "id": "dd854b7b",
   "metadata": {},
   "outputs": [
    {
     "data": {
      "text/plain": [
       "ID                                 0\n",
       "account_type                       1\n",
       "gender                             1\n",
       "age                                0\n",
       "Income                             1\n",
       "Emp_Tenure_Years                   0\n",
       "Tenure_with_Bank                   0\n",
       "region_code                        1\n",
       "NetBanking_Flag                    0\n",
       "Avg_days_between_transaction       3\n",
       "cc_cons_apr                        0\n",
       "dc_cons_apr                        0\n",
       "cc_cons_may                        1\n",
       "dc_cons_may                        0\n",
       "cc_cons_jun                        0\n",
       "dc_cons_jun                        1\n",
       "cc_count_apr                       1\n",
       "cc_count_may                       0\n",
       "cc_count_jun                       0\n",
       "dc_count_apr                       0\n",
       "dc_count_may                       0\n",
       "dc_count_jun                       0\n",
       "card_lim                           0\n",
       "personal_loan_active               0\n",
       "vehicle_loan_active                0\n",
       "personal_loan_closed               1\n",
       "vehicle_loan_closed                0\n",
       "investment_1                       0\n",
       "investment_2                       0\n",
       "investment_3                       2\n",
       "investment_4                       0\n",
       "debit_amount_apr                   0\n",
       "credit_amount_apr                  0\n",
       "debit_count_apr                    1\n",
       "credit_count_apr                   0\n",
       "max_credit_amount_apr              0\n",
       "debit_amount_may                   0\n",
       "credit_amount_may                  0\n",
       "credit_count_may                   0\n",
       "debit_count_may                    0\n",
       "max_credit_amount_may              0\n",
       "debit_amount_jun                   0\n",
       "credit_amount_jun                  0\n",
       "credit_count_jun                   0\n",
       "debit_count_jun                    0\n",
       "max_credit_amount_jun              0\n",
       "loan_enq                           2\n",
       "emi_active                         1\n",
       "cc_cons                         5000\n",
       "dtype: int64"
      ]
     },
     "execution_count": 112,
     "metadata": {},
     "output_type": "execute_result"
    }
   ],
   "source": [
    "data.isnull().sum()"
   ]
  },
  {
   "cell_type": "code",
   "execution_count": 113,
   "id": "e7bcbcd0",
   "metadata": {},
   "outputs": [],
   "source": [
    "## removing all the null values \n",
    "\n",
    "data = data.dropna()"
   ]
  },
  {
   "cell_type": "code",
   "execution_count": 114,
   "id": "72fc19f4",
   "metadata": {},
   "outputs": [
    {
     "data": {
      "text/plain": [
       "ID                              0\n",
       "account_type                    0\n",
       "gender                          0\n",
       "age                             0\n",
       "Income                          0\n",
       "Emp_Tenure_Years                0\n",
       "Tenure_with_Bank                0\n",
       "region_code                     0\n",
       "NetBanking_Flag                 0\n",
       "Avg_days_between_transaction    0\n",
       "cc_cons_apr                     0\n",
       "dc_cons_apr                     0\n",
       "cc_cons_may                     0\n",
       "dc_cons_may                     0\n",
       "cc_cons_jun                     0\n",
       "dc_cons_jun                     0\n",
       "cc_count_apr                    0\n",
       "cc_count_may                    0\n",
       "cc_count_jun                    0\n",
       "dc_count_apr                    0\n",
       "dc_count_may                    0\n",
       "dc_count_jun                    0\n",
       "card_lim                        0\n",
       "personal_loan_active            0\n",
       "vehicle_loan_active             0\n",
       "personal_loan_closed            0\n",
       "vehicle_loan_closed             0\n",
       "investment_1                    0\n",
       "investment_2                    0\n",
       "investment_3                    0\n",
       "investment_4                    0\n",
       "debit_amount_apr                0\n",
       "credit_amount_apr               0\n",
       "debit_count_apr                 0\n",
       "credit_count_apr                0\n",
       "max_credit_amount_apr           0\n",
       "debit_amount_may                0\n",
       "credit_amount_may               0\n",
       "credit_count_may                0\n",
       "debit_count_may                 0\n",
       "max_credit_amount_may           0\n",
       "debit_amount_jun                0\n",
       "credit_amount_jun               0\n",
       "credit_count_jun                0\n",
       "debit_count_jun                 0\n",
       "max_credit_amount_jun           0\n",
       "loan_enq                        0\n",
       "emi_active                      0\n",
       "cc_cons                         0\n",
       "dtype: int64"
      ]
     },
     "execution_count": 114,
     "metadata": {},
     "output_type": "execute_result"
    }
   ],
   "source": [
    "data.isna().sum()"
   ]
  },
  {
   "cell_type": "code",
   "execution_count": 115,
   "id": "9f0257ab",
   "metadata": {},
   "outputs": [],
   "source": [
    "## encode the categorical variables using one hot encoding "
   ]
  },
  {
   "cell_type": "code",
   "execution_count": 116,
   "id": "1ba5ee71",
   "metadata": {},
   "outputs": [],
   "source": [
    "data = pd.get_dummies(data, columns=['account_type', 'gender', 'Income', 'loan_enq'])"
   ]
  },
  {
   "cell_type": "code",
   "execution_count": 117,
   "id": "d5181296",
   "metadata": {},
   "outputs": [],
   "source": [
    "## splitting the model into features and the target variable"
   ]
  },
  {
   "cell_type": "code",
   "execution_count": 118,
   "id": "61c84723",
   "metadata": {},
   "outputs": [],
   "source": [
    "X = data.drop([\"ID\", \"cc_cons\"], axis=1)\n",
    "y = data[\"cc_cons\"]"
   ]
  },
  {
   "cell_type": "code",
   "execution_count": 119,
   "id": "7116715d",
   "metadata": {},
   "outputs": [],
   "source": [
    "## trian the model "
   ]
  },
  {
   "cell_type": "code",
   "execution_count": 120,
   "id": "0e683086",
   "metadata": {},
   "outputs": [],
   "source": [
    "from sklearn.model_selection import train_test_split"
   ]
  },
  {
   "cell_type": "code",
   "execution_count": 121,
   "id": "ce772a23",
   "metadata": {},
   "outputs": [],
   "source": [
    "X_train, X_test, y_train, y_test = train_test_split(X, y, test_size=0.30, random_state=42)"
   ]
  },
  {
   "cell_type": "code",
   "execution_count": 122,
   "id": "70a1890a",
   "metadata": {},
   "outputs": [
    {
     "data": {
      "text/plain": [
       "(14995, 10496, 4499)"
      ]
     },
     "execution_count": 122,
     "metadata": {},
     "output_type": "execute_result"
    }
   ],
   "source": [
    "len(X), len(X_train), len(X_test)"
   ]
  },
  {
   "cell_type": "code",
   "execution_count": 123,
   "id": "9e1e1766",
   "metadata": {},
   "outputs": [],
   "source": [
    "## building the model \n",
    "\n",
    "from sklearn.linear_model import LinearRegression\n"
   ]
  },
  {
   "cell_type": "code",
   "execution_count": 124,
   "id": "24a5e01b",
   "metadata": {},
   "outputs": [],
   "source": [
    "reg_model = LinearRegression()"
   ]
  },
  {
   "cell_type": "code",
   "execution_count": 125,
   "id": "5468bf3d",
   "metadata": {},
   "outputs": [
    {
     "data": {
      "text/html": [
       "<style>#sk-container-id-2 {color: black;background-color: white;}#sk-container-id-2 pre{padding: 0;}#sk-container-id-2 div.sk-toggleable {background-color: white;}#sk-container-id-2 label.sk-toggleable__label {cursor: pointer;display: block;width: 100%;margin-bottom: 0;padding: 0.3em;box-sizing: border-box;text-align: center;}#sk-container-id-2 label.sk-toggleable__label-arrow:before {content: \"▸\";float: left;margin-right: 0.25em;color: #696969;}#sk-container-id-2 label.sk-toggleable__label-arrow:hover:before {color: black;}#sk-container-id-2 div.sk-estimator:hover label.sk-toggleable__label-arrow:before {color: black;}#sk-container-id-2 div.sk-toggleable__content {max-height: 0;max-width: 0;overflow: hidden;text-align: left;background-color: #f0f8ff;}#sk-container-id-2 div.sk-toggleable__content pre {margin: 0.2em;color: black;border-radius: 0.25em;background-color: #f0f8ff;}#sk-container-id-2 input.sk-toggleable__control:checked~div.sk-toggleable__content {max-height: 200px;max-width: 100%;overflow: auto;}#sk-container-id-2 input.sk-toggleable__control:checked~label.sk-toggleable__label-arrow:before {content: \"▾\";}#sk-container-id-2 div.sk-estimator input.sk-toggleable__control:checked~label.sk-toggleable__label {background-color: #d4ebff;}#sk-container-id-2 div.sk-label input.sk-toggleable__control:checked~label.sk-toggleable__label {background-color: #d4ebff;}#sk-container-id-2 input.sk-hidden--visually {border: 0;clip: rect(1px 1px 1px 1px);clip: rect(1px, 1px, 1px, 1px);height: 1px;margin: -1px;overflow: hidden;padding: 0;position: absolute;width: 1px;}#sk-container-id-2 div.sk-estimator {font-family: monospace;background-color: #f0f8ff;border: 1px dotted black;border-radius: 0.25em;box-sizing: border-box;margin-bottom: 0.5em;}#sk-container-id-2 div.sk-estimator:hover {background-color: #d4ebff;}#sk-container-id-2 div.sk-parallel-item::after {content: \"\";width: 100%;border-bottom: 1px solid gray;flex-grow: 1;}#sk-container-id-2 div.sk-label:hover label.sk-toggleable__label {background-color: #d4ebff;}#sk-container-id-2 div.sk-serial::before {content: \"\";position: absolute;border-left: 1px solid gray;box-sizing: border-box;top: 0;bottom: 0;left: 50%;z-index: 0;}#sk-container-id-2 div.sk-serial {display: flex;flex-direction: column;align-items: center;background-color: white;padding-right: 0.2em;padding-left: 0.2em;position: relative;}#sk-container-id-2 div.sk-item {position: relative;z-index: 1;}#sk-container-id-2 div.sk-parallel {display: flex;align-items: stretch;justify-content: center;background-color: white;position: relative;}#sk-container-id-2 div.sk-item::before, #sk-container-id-2 div.sk-parallel-item::before {content: \"\";position: absolute;border-left: 1px solid gray;box-sizing: border-box;top: 0;bottom: 0;left: 50%;z-index: -1;}#sk-container-id-2 div.sk-parallel-item {display: flex;flex-direction: column;z-index: 1;position: relative;background-color: white;}#sk-container-id-2 div.sk-parallel-item:first-child::after {align-self: flex-end;width: 50%;}#sk-container-id-2 div.sk-parallel-item:last-child::after {align-self: flex-start;width: 50%;}#sk-container-id-2 div.sk-parallel-item:only-child::after {width: 0;}#sk-container-id-2 div.sk-dashed-wrapped {border: 1px dashed gray;margin: 0 0.4em 0.5em 0.4em;box-sizing: border-box;padding-bottom: 0.4em;background-color: white;}#sk-container-id-2 div.sk-label label {font-family: monospace;font-weight: bold;display: inline-block;line-height: 1.2em;}#sk-container-id-2 div.sk-label-container {text-align: center;}#sk-container-id-2 div.sk-container {/* jupyter's `normalize.less` sets `[hidden] { display: none; }` but bootstrap.min.css set `[hidden] { display: none !important; }` so we also need the `!important` here to be able to override the default hidden behavior on the sphinx rendered scikit-learn.org. See: https://github.com/scikit-learn/scikit-learn/issues/21755 */display: inline-block !important;position: relative;}#sk-container-id-2 div.sk-text-repr-fallback {display: none;}</style><div id=\"sk-container-id-2\" class=\"sk-top-container\"><div class=\"sk-text-repr-fallback\"><pre>LinearRegression()</pre><b>In a Jupyter environment, please rerun this cell to show the HTML representation or trust the notebook. <br />On GitHub, the HTML representation is unable to render, please try loading this page with nbviewer.org.</b></div><div class=\"sk-container\" hidden><div class=\"sk-item\"><div class=\"sk-estimator sk-toggleable\"><input class=\"sk-toggleable__control sk-hidden--visually\" id=\"sk-estimator-id-2\" type=\"checkbox\" checked><label for=\"sk-estimator-id-2\" class=\"sk-toggleable__label sk-toggleable__label-arrow\">LinearRegression</label><div class=\"sk-toggleable__content\"><pre>LinearRegression()</pre></div></div></div></div></div>"
      ],
      "text/plain": [
       "LinearRegression()"
      ]
     },
     "execution_count": 125,
     "metadata": {},
     "output_type": "execute_result"
    }
   ],
   "source": [
    "reg_model.fit(X_train, y_train)"
   ]
  },
  {
   "cell_type": "code",
   "execution_count": 126,
   "id": "af04cec4",
   "metadata": {},
   "outputs": [],
   "source": [
    "## model evaluation \n",
    "y_preds = reg_model.predict(X_test)"
   ]
  },
  {
   "cell_type": "code",
   "execution_count": 127,
   "id": "2530772f",
   "metadata": {},
   "outputs": [],
   "source": [
    "from sklearn.metrics import mean_squared_error"
   ]
  },
  {
   "cell_type": "code",
   "execution_count": 128,
   "id": "139fdbaf",
   "metadata": {},
   "outputs": [],
   "source": [
    "rmspe = np.sqrt(mean_squared_error(y_test, y_preds)) / np.mean(y_test) * 100"
   ]
  },
  {
   "cell_type": "code",
   "execution_count": 129,
   "id": "84e3b2f6",
   "metadata": {},
   "outputs": [
    {
     "name": "stdout",
     "output_type": "stream",
     "text": [
      "rmspe: 178.62%\n"
     ]
    }
   ],
   "source": [
    "print(f'rmspe: {rmspe:.2f}%')\n"
   ]
  },
  {
   "cell_type": "code",
   "execution_count": 130,
   "id": "35bcf4cf",
   "metadata": {},
   "outputs": [],
   "source": [
    "## preparing the missing cc_cons customer with missing data\n",
    "missing_data = cred_consum_data[cred_consum_data[\"cc_cons\"].isna()]"
   ]
  },
  {
   "cell_type": "code",
   "execution_count": 131,
   "id": "38c351ad",
   "metadata": {},
   "outputs": [],
   "source": [
    "missing_data = pd.merge(missing_data, cust_demon, on=\"ID\")\n",
    "missing_data = pd.merge(missing_data, cust_beha_data, on=\"ID\")"
   ]
  },
  {
   "cell_type": "code",
   "execution_count": 132,
   "id": "e35e0450",
   "metadata": {},
   "outputs": [],
   "source": [
    "## encoding categorical variable\n",
    "missing_data = pd.get_dummies(missing_data, columns=['account_type', 'gender', 'Income', 'loan_enq'])"
   ]
  },
  {
   "cell_type": "code",
   "execution_count": 133,
   "id": "c35b8f9c",
   "metadata": {},
   "outputs": [],
   "source": [
    "from sklearn.impute import SimpleImputer\n",
    "\n",
    "# Create an imputer instance\n",
    "imputer = SimpleImputer(strategy='mean')\n",
    "\n",
    "# Fit the imputer on your data and transform it\n",
    "X_missing_data = imputer.fit_transform(missing_data.drop([\"ID\", \"cc_cons\"], axis=1))"
   ]
  },
  {
   "cell_type": "code",
   "execution_count": 134,
   "id": "87ca809e",
   "metadata": {},
   "outputs": [
    {
     "name": "stderr",
     "output_type": "stream",
     "text": [
      "C:\\Users\\Ganesh\\anaconda3\\lib\\site-packages\\sklearn\\base.py:420: UserWarning: X does not have valid feature names, but LinearRegression was fitted with feature names\n",
      "  warnings.warn(\n"
     ]
    }
   ],
   "source": [
    "## making predictions for missing values \n",
    "\n",
    "predictions = reg_model.predict(X_missing_data)\n"
   ]
  },
  {
   "cell_type": "code",
   "execution_count": 136,
   "id": "2887739c",
   "metadata": {},
   "outputs": [],
   "source": [
    "predictions_df = missing_data[['ID']].copy()\n",
    "predictions_df['cc_cons'] = predictions\n",
    "\n",
    "# Save the predictions to a CSV file\n",
    "predictions_df.to_csv('PredictedValues.csv', index=False)"
   ]
  },
  {
   "cell_type": "code",
   "execution_count": 138,
   "id": "707e373f",
   "metadata": {},
   "outputs": [
    {
     "data": {
      "text/html": [
       "<div>\n",
       "<style scoped>\n",
       "    .dataframe tbody tr th:only-of-type {\n",
       "        vertical-align: middle;\n",
       "    }\n",
       "\n",
       "    .dataframe tbody tr th {\n",
       "        vertical-align: top;\n",
       "    }\n",
       "\n",
       "    .dataframe thead th {\n",
       "        text-align: right;\n",
       "    }\n",
       "</style>\n",
       "<table border=\"1\" class=\"dataframe\">\n",
       "  <thead>\n",
       "    <tr style=\"text-align: right;\">\n",
       "      <th></th>\n",
       "      <th>ID</th>\n",
       "      <th>cc_cons</th>\n",
       "    </tr>\n",
       "  </thead>\n",
       "  <tbody>\n",
       "    <tr>\n",
       "      <th>0</th>\n",
       "      <td>17591</td>\n",
       "      <td>57464.322424</td>\n",
       "    </tr>\n",
       "    <tr>\n",
       "      <th>1</th>\n",
       "      <td>13541</td>\n",
       "      <td>62753.394349</td>\n",
       "    </tr>\n",
       "    <tr>\n",
       "      <th>2</th>\n",
       "      <td>13431</td>\n",
       "      <td>63823.742238</td>\n",
       "    </tr>\n",
       "    <tr>\n",
       "      <th>3</th>\n",
       "      <td>8687</td>\n",
       "      <td>61298.916752</td>\n",
       "    </tr>\n",
       "    <tr>\n",
       "      <th>4</th>\n",
       "      <td>14727</td>\n",
       "      <td>60173.882860</td>\n",
       "    </tr>\n",
       "    <tr>\n",
       "      <th>...</th>\n",
       "      <td>...</td>\n",
       "      <td>...</td>\n",
       "    </tr>\n",
       "    <tr>\n",
       "      <th>4995</th>\n",
       "      <td>12512</td>\n",
       "      <td>51119.506669</td>\n",
       "    </tr>\n",
       "    <tr>\n",
       "      <th>4996</th>\n",
       "      <td>14224</td>\n",
       "      <td>59204.024845</td>\n",
       "    </tr>\n",
       "    <tr>\n",
       "      <th>4997</th>\n",
       "      <td>18740</td>\n",
       "      <td>56343.219885</td>\n",
       "    </tr>\n",
       "    <tr>\n",
       "      <th>4998</th>\n",
       "      <td>18134</td>\n",
       "      <td>56360.947695</td>\n",
       "    </tr>\n",
       "    <tr>\n",
       "      <th>4999</th>\n",
       "      <td>12413</td>\n",
       "      <td>58669.907340</td>\n",
       "    </tr>\n",
       "  </tbody>\n",
       "</table>\n",
       "<p>5000 rows × 2 columns</p>\n",
       "</div>"
      ],
      "text/plain": [
       "         ID       cc_cons\n",
       "0     17591  57464.322424\n",
       "1     13541  62753.394349\n",
       "2     13431  63823.742238\n",
       "3      8687  61298.916752\n",
       "4     14727  60173.882860\n",
       "...     ...           ...\n",
       "4995  12512  51119.506669\n",
       "4996  14224  59204.024845\n",
       "4997  18740  56343.219885\n",
       "4998  18134  56360.947695\n",
       "4999  12413  58669.907340\n",
       "\n",
       "[5000 rows x 2 columns]"
      ]
     },
     "execution_count": 138,
     "metadata": {},
     "output_type": "execute_result"
    }
   ],
   "source": [
    "file = pd.read_csv(r\"F:\\Akash data\\AnalytixLabs\\Machine Learning\\11. Capstone Case Study - Predict Cred Card Consumption\\final code\\PredictedValues.csv\")\n",
    "file"
   ]
  },
  {
   "cell_type": "code",
   "execution_count": null,
   "id": "05b1107c",
   "metadata": {},
   "outputs": [],
   "source": []
  },
  {
   "cell_type": "code",
   "execution_count": null,
   "id": "4504a587",
   "metadata": {},
   "outputs": [],
   "source": []
  },
  {
   "cell_type": "code",
   "execution_count": null,
   "id": "345480be",
   "metadata": {},
   "outputs": [],
   "source": []
  },
  {
   "cell_type": "code",
   "execution_count": null,
   "id": "f2d0aa35",
   "metadata": {},
   "outputs": [],
   "source": []
  },
  {
   "cell_type": "code",
   "execution_count": null,
   "id": "e280406c",
   "metadata": {},
   "outputs": [],
   "source": []
  }
 ],
 "metadata": {
  "kernelspec": {
   "display_name": "Python 3 (ipykernel)",
   "language": "python",
   "name": "python3"
  },
  "language_info": {
   "codemirror_mode": {
    "name": "ipython",
    "version": 3
   },
   "file_extension": ".py",
   "mimetype": "text/x-python",
   "name": "python",
   "nbconvert_exporter": "python",
   "pygments_lexer": "ipython3",
   "version": "3.10.9"
  }
 },
 "nbformat": 4,
 "nbformat_minor": 5
}
